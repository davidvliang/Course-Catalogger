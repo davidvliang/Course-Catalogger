{
 "cells": [
  {
   "cell_type": "code",
   "execution_count": 1,
   "metadata": {},
   "outputs": [],
   "source": [
    "top_url = 'https://www.sis.hawaii.edu/uhdad/avail.classes?i=MAN&t=202010'"
   ]
  },
  {
   "cell_type": "code",
   "execution_count": 2,
   "metadata": {},
   "outputs": [
    {
     "data": {
      "text/plain": [
       "'https://www.sis.hawaii.edu/uhdad/avail.classes?i=MAN&t=202010'"
      ]
     },
     "execution_count": 2,
     "metadata": {},
     "output_type": "execute_result"
    }
   ],
   "source": [
    "top_url\n"
   ]
  },
  {
   "cell_type": "code",
   "execution_count": 3,
   "metadata": {},
   "outputs": [],
   "source": [
    "from urllib.request import urlopen as uReq\n",
    "from bs4 import BeautifulSoup as soup\n",
    "import re"
   ]
  },
  {
   "cell_type": "code",
   "execution_count": 4,
   "metadata": {},
   "outputs": [],
   "source": [
    "uClient = uReq(top_url)"
   ]
  },
  {
   "cell_type": "code",
   "execution_count": 5,
   "metadata": {},
   "outputs": [],
   "source": [
    "page_html = uClient.read()"
   ]
  },
  {
   "cell_type": "code",
   "execution_count": 6,
   "metadata": {},
   "outputs": [],
   "source": [
    "uClient.close()"
   ]
  },
  {
   "cell_type": "code",
   "execution_count": 7,
   "metadata": {},
   "outputs": [],
   "source": [
    "page_soup = soup (page_html, \"html.parser\") "
   ]
  },
  {
   "cell_type": "code",
   "execution_count": 8,
   "metadata": {},
   "outputs": [
    {
     "data": {
      "text/plain": [
       "<title>University of Hawaii at Manoa - Fall 2019</title>"
      ]
     },
     "execution_count": 8,
     "metadata": {},
     "output_type": "execute_result"
    }
   ],
   "source": [
    "page_soup.head.title"
   ]
  },
  {
   "cell_type": "code",
   "execution_count": 9,
   "metadata": {},
   "outputs": [
    {
     "data": {
      "text/plain": [
       "<p class=\"system\">\n",
       "<a class=\"system_link\" href=\"./avail.classes\">University of Hawaii</a>\n",
       "    \n",
       "<a class=\"no_frames\" href=\"./avail.classes?i=MAN&amp;t=202010&amp;frames=i\">FRAMES</a>\n",
       "<a class=\"book_link,\" href=\"http://www.bookstore.hawaii.edu/manoa/SelectTermDept.aspx\" style=\"color: white; text-decoration: none; float: right\" target=\"_blank\">Textbooks/Course Materials</a>\n",
       "</p>"
      ]
     },
     "execution_count": 9,
     "metadata": {},
     "output_type": "execute_result"
    }
   ],
   "source": [
    "page_soup.p"
   ]
  },
  {
   "cell_type": "code",
   "execution_count": 58,
   "metadata": {},
   "outputs": [
    {
     "name": "stdout",
     "output_type": "stream",
     "text": [
      "[<a href=\"./avail.classes?i=MAN&amp;t=202010&amp;s=ACM\">Academy for Creative Media (ACM)</a>, <a href=\"./avail.classes?i=MAN&amp;t=202010&amp;s=ACC\">Accounting (ACC)</a>, <a href=\"./avail.classes?i=MAN&amp;t=202010&amp;s=AS\">Aerospace Studies (AS)</a>, <a href=\"./avail.classes?i=MAN&amp;t=202010&amp;s=ASL\">American Sign Language (ASL)</a>, <a href=\"./avail.classes?i=MAN&amp;t=202010&amp;s=AMST\">American Studies (AMST)</a>, <a href=\"./avail.classes?i=MAN&amp;t=202010&amp;s=ANAT\">Anatomy (ANAT)</a>, <a href=\"./avail.classes?i=MAN&amp;t=202010&amp;s=ANSC\">Animal Science (ANSC)</a>, <a href=\"./avail.classes?i=MAN&amp;t=202010&amp;s=ANTH\">Anthropology (ANTH)</a>, <a href=\"./avail.classes?i=MAN&amp;t=202010&amp;s=ARAB\">Arabic (ARAB)</a>, <a href=\"./avail.classes?i=MAN&amp;t=202010&amp;s=ARCH\">Architecture (ARCH)</a>, <a href=\"./avail.classes?i=MAN&amp;t=202010&amp;s=ART\">Art (ART)</a>, <a href=\"./avail.classes?i=MAN&amp;t=202010&amp;s=ASAN\">Asian Studies (ASAN)</a>, <a href=\"./avail.classes?i=MAN&amp;t=202010&amp;s=ASTR\">Astronomy (ASTR)</a>, <a href=\"./avail.classes?i=MAN&amp;t=202010&amp;s=ATMO\">Atmospheric Sciences (ATMO)</a>, <a href=\"./avail.classes?i=MAN&amp;t=202010&amp;s=BIOC\">Biochemistry (BIOC)</a>, <a href=\"./avail.classes?i=MAN&amp;t=202010&amp;s=BE\">Bioengineering (BE)</a>, <a href=\"./avail.classes?i=MAN&amp;t=202010&amp;s=BIOL\">Biology (BIOL)</a>, <a href=\"./avail.classes?i=MAN&amp;t=202010&amp;s=BIOM\">Biomedical Science (BIOM)</a>, <a href=\"./avail.classes?i=MAN&amp;t=202010&amp;s=BOT\">Botany (BOT)</a>, <a href=\"./avail.classes?i=MAN&amp;t=202010&amp;s=BUS\">Business (BUS)</a>, <a href=\"./avail.classes?i=MAN&amp;t=202010&amp;s=BLAW\">Business Law (BLAW)</a>, <a href=\"./avail.classes?i=MAN&amp;t=202010&amp;s=CAM\">Cambodian (CAM)</a>, <a href=\"./avail.classes?i=MAN&amp;t=202010&amp;s=CMB\">Cell and Molecular Biology (CMB)</a>, <a href=\"./avail.classes?i=MAN&amp;t=202010&amp;s=CHAM\">Chamorro (CHAM)</a>, <a href=\"./avail.classes?i=MAN&amp;t=202010&amp;s=CHEM\">Chemistry (CHEM)</a>, <a href=\"./avail.classes?i=MAN&amp;t=202010&amp;s=CHN\">Chinese Language &amp; Literature (CHN)</a>, <a href=\"./avail.classes?i=MAN&amp;t=202010&amp;s=CEE\">Civil &amp; Environmental Engr (CEE)</a>, <a href=\"./avail.classes?i=MAN&amp;t=202010&amp;s=CLAS\">Classics (CLAS)</a>, <a href=\"./avail.classes?i=MAN&amp;t=202010&amp;s=CAS\">Colleges of Arts &amp; Sciences (CAS)</a>, <a href=\"./avail.classes?i=MAN&amp;t=202010&amp;s=COM\">Communication (COM)</a>, <a href=\"./avail.classes?i=MAN&amp;t=202010&amp;s=CIS\">Communication &amp; Info Sciences (CIS)</a>, <a href=\"./avail.classes?i=MAN&amp;t=202010&amp;s=CSD\">Communication Sci &amp; Disorders (CSD)</a>, <a href=\"./avail.classes?i=MAN&amp;t=202010&amp;s=COMG\">Communicology (COMG)</a>, <a href=\"./avail.classes?i=MAN&amp;t=202010&amp;s=CAAM\">Complementary &amp; Alt Medicine (CAAM)</a>, <a href=\"./avail.classes?i=MAN&amp;t=202010&amp;s=EDCS\">Curriculum Studies (EDCS)</a>, <a href=\"./avail.classes?i=MAN&amp;t=202010&amp;s=DNCE\">Dance (DNCE)</a>, <a href=\"./avail.classes?i=MAN&amp;t=202010&amp;s=DH\">Dental Hygiene (DH)</a>, <a href=\"./avail.classes?i=MAN&amp;t=202010&amp;s=DRB\">Developmental &amp; Repro Biology (DRB)</a>, <a href=\"./avail.classes?i=MAN&amp;t=202010&amp;s=DIS\">Disability Studies (DIS)</a>, <a href=\"./avail.classes?i=MAN&amp;t=202010&amp;s=LSJD\">Doctor of Juridical Science (LSJD)</a>, <a href=\"./avail.classes?i=MAN&amp;t=202010&amp;s=ERTH\">Earth Sciences (ERTH)</a>, <a href=\"./avail.classes?i=MAN&amp;t=202010&amp;s=EALL\">East Asian Languages &amp; Lit (EALL)</a>, <a href=\"./avail.classes?i=MAN&amp;t=202010&amp;s=ECON\">Economics (ECON)</a>, <a href=\"./avail.classes?i=MAN&amp;t=202010&amp;s=EDUC\">Education, Interdisciplinary (EDUC)</a>, <a href=\"./avail.classes?i=MAN&amp;t=202010&amp;s=EDEA\">Educational Administration (EDEA)</a>, <a href=\"./avail.classes?i=MAN&amp;t=202010&amp;s=EDEF\">Educational Foundations (EDEF)</a>, <a href=\"./avail.classes?i=MAN&amp;t=202010&amp;s=EDEP\">Educational Psychology (EDEP)</a>, <a href=\"./avail.classes?i=MAN&amp;t=202010&amp;s=EE\">Electrical Engineering (EE)</a>, <a href=\"./avail.classes?i=MAN&amp;t=202010&amp;s=ENGR\">Engineering, Interdisciplinary (ENGR)</a>, <a href=\"./avail.classes?i=MAN&amp;t=202010&amp;s=ENG\">English (ENG)</a>, <a href=\"./avail.classes?i=MAN&amp;t=202010&amp;s=ESL\">English as a Second Language (ESL)</a>, <a href=\"./avail.classes?i=MAN&amp;t=202010&amp;s=ELI\">English Language Institute (ELI)</a>, <a href=\"./avail.classes?i=MAN&amp;t=202010&amp;s=ES\">Ethnic Studies (ES)</a>, <a href=\"./avail.classes?i=MAN&amp;t=202010&amp;s=FMCH\">Family Medicine &amp; Comm Health (FMCH)</a>, <a href=\"./avail.classes?i=MAN&amp;t=202010&amp;s=FDM\">Fashion Design Textiles &amp; Mdsg (FDM)</a>, <a href=\"./avail.classes?i=MAN&amp;t=202010&amp;s=FIL\">Filipino (FIL)</a>, <a href=\"./avail.classes?i=MAN&amp;t=202010&amp;s=FIN\">Finance (FIN)</a>, <a href=\"./avail.classes?i=MAN&amp;t=202010&amp;s=FSHN\">Food Science &amp; Human Nutrition (FSHN)</a>, <a href=\"./avail.classes?i=MAN&amp;t=202010&amp;s=FR\">French (FR)</a>, <a href=\"./avail.classes?i=MAN&amp;t=202010&amp;s=GEOG\">Geography (GEOG)</a>, <a href=\"./avail.classes?i=MAN&amp;t=202010&amp;s=GERI\">Geriatric Medicine (GERI)</a>, <a href=\"./avail.classes?i=MAN&amp;t=202010&amp;s=GER\">German (GER)</a>, <a href=\"./avail.classes?i=MAN&amp;t=202010&amp;s=GES\">Global Environmental Science (GES)</a>, <a href=\"./avail.classes?i=MAN&amp;t=202010&amp;s=GRK\">Greek (GRK)</a>, <a href=\"./avail.classes?i=MAN&amp;t=202010&amp;s=HAW\">Hawaiian (HAW)</a>, <a href=\"./avail.classes?i=MAN&amp;t=202010&amp;s=HWST\">Hawaiian Studies (HWST)</a>, <a href=\"./avail.classes?i=MAN&amp;t=202010&amp;s=HNDI\">Hindi (HNDI)</a>, <a href=\"./avail.classes?i=MAN&amp;t=202010&amp;s=HIST\">History (HIST)</a>, <a href=\"./avail.classes?i=MAN&amp;t=202010&amp;s=HON\">Honors (HON)</a>, <a href=\"./avail.classes?i=MAN&amp;t=202010&amp;s=HDFS\">Human Dev &amp; Family Studies</a>, <a href=\"./avail.classes?i=MAN&amp;t=202010&amp;s=HDFS\" style=\"color: red;\"> (HDFS formerly FAMR)</a>, <a href=\"./avail.classes?i=MAN&amp;t=202010&amp;s=HRM\">Human Resources Mgt (HRM)</a>, <a href=\"./avail.classes?i=MAN&amp;t=202010&amp;s=ILO\">Ilokano (ILO)</a>, <a href=\"./avail.classes?i=MAN&amp;t=202010&amp;s=IP\">Indo-Pacific Languages (IP)</a>, <a href=\"./avail.classes?i=MAN&amp;t=202010&amp;s=IND\">Indonesian (IND)</a>, <a href=\"./avail.classes?i=MAN&amp;t=202010&amp;s=ITM\">Information Technology Mgt (ITM)</a>, <a href=\"./avail.classes?i=MAN&amp;t=202010&amp;s=ICS\">Information&amp; Computer Sciences (ICS)</a>, <a href=\"./avail.classes?i=MAN&amp;t=202010&amp;s=ITE\">Institute for Teacher Educatn (ITE)</a>, <a href=\"./avail.classes?i=MAN&amp;t=202010&amp;s=INS\">Insurance (INS)</a>, <a href=\"./avail.classes?i=MAN&amp;t=202010&amp;s=IS\">Interdisciplinary Studies (IS)</a>, <a href=\"./avail.classes?i=MAN&amp;t=202010&amp;s=CUL\">Internatl Cultural Studies (CUL)</a>, <a href=\"./avail.classes?i=MAN&amp;t=202010&amp;s=ITAL\">Italian (ITAL)</a>, <a href=\"./avail.classes?i=MAN&amp;t=202010&amp;s=JPN\">Japanese Language &amp; Literature (JPN)</a>, <a href=\"./avail.classes?i=MAN&amp;t=202010&amp;s=JOUR\">Journalism (JOUR)</a>, <a href=\"./avail.classes?i=MAN&amp;t=202010&amp;s=KRS\">Kinesiology &amp; Rehab Science (KRS)</a>, <a href=\"./avail.classes?i=MAN&amp;t=202010&amp;s=KOR\">Korean (KOR)</a>, <a href=\"./avail.classes?i=MAN&amp;t=202010&amp;s=LLEA\">Lang &amp; Lit Europe &amp; Americas (LLEA)</a>, <a href=\"./avail.classes?i=MAN&amp;t=202010&amp;s=LATN\">Latin (LATN)</a>, <a href=\"./avail.classes?i=MAN&amp;t=202010&amp;s=LAIS\">Latin Amer &amp; Iberian Studies (LAIS)</a>, <a href=\"./avail.classes?i=MAN&amp;t=202010&amp;s=LAW\">Law (LAW)</a>, <a href=\"./avail.classes?i=MAN&amp;t=202010&amp;s=LWLR\">Law Research (LWLR)</a>, <a href=\"./avail.classes?i=MAN&amp;t=202010&amp;s=LWEV\">Law-Environmental (LWEV)</a>, <a href=\"./avail.classes?i=MAN&amp;t=202010&amp;s=LWJT\">Law-Journals and Teams (LWJT)</a>, <a href=\"./avail.classes?i=MAN&amp;t=202010&amp;s=LWLW\">Law-Legal Writing (LWLW)</a>, <a href=\"./avail.classes?i=MAN&amp;t=202010&amp;s=LWLM\">Law-LLM Master of Laws (LWLM)</a>, <a href=\"./avail.classes?i=MAN&amp;t=202010&amp;s=LWPA\">Law-Pacific and Asian (LWPA)</a>, <a href=\"./avail.classes?i=MAN&amp;t=202010&amp;s=LWUL\">Law-Ulu Lehua (LWUL)</a>, <a href=\"./avail.classes?i=MAN&amp;t=202010&amp;s=LTEC\">Learning Design and Technology (LTEC)</a>, <a href=\"./avail.classes?i=MAN&amp;t=202010&amp;s=LIS\">Library &amp; Information Science (LIS)</a>, <a href=\"./avail.classes?i=MAN&amp;t=202010&amp;s=LING\">Linguistics (LING)</a>, <a href=\"./avail.classes?i=MAN&amp;t=202010&amp;s=MGT\">Management (MGT)</a>, <a href=\"./avail.classes?i=MAN&amp;t=202010&amp;s=MAO\">Maori (MAO)</a>, <a href=\"./avail.classes?i=MAN&amp;t=202010&amp;s=MBIO\">Marine Biology (MBIO)</a>, <a href=\"./avail.classes?i=MAN&amp;t=202010&amp;s=MKT\">Marketing (MKT)</a>, <a href=\"./avail.classes?i=MAN&amp;t=202010&amp;s=MATH\">Mathematics (MATH)</a>, <a href=\"./avail.classes?i=MAN&amp;t=202010&amp;s=ME\">Mechanical Engineering (ME)</a>, <a href=\"./avail.classes?i=MAN&amp;t=202010&amp;s=MDED\">Medical Education (MDED)</a>, <a href=\"./avail.classes?i=MAN&amp;t=202010&amp;s=MEDT\">Medical Technology (MEDT)</a>, <a href=\"./avail.classes?i=MAN&amp;t=202010&amp;s=MED\">Medicine (MED)</a>, <a href=\"./avail.classes?i=MAN&amp;t=202010&amp;s=MICR\">Microbiology (MICR)</a>, <a href=\"./avail.classes?i=MAN&amp;t=202010&amp;s=MSL\">Military Science &amp; Leadership (MSL)</a>, <a href=\"./avail.classes?i=MAN&amp;t=202010&amp;s=MCB\">Molecular and Cell Biology (MCB)</a>, <a href=\"./avail.classes?i=MAN&amp;t=202010&amp;s=MBBE\">Molecular Biosci &amp; Bioengr (MBBE)</a>, <a href=\"./avail.classes?i=MAN&amp;t=202010&amp;s=MUS\">Music (MUS)</a>, <a href=\"./avail.classes?i=MAN&amp;t=202010&amp;s=NHH\">Native Hawaiian Health (NHH)</a>, <a href=\"./avail.classes?i=MAN&amp;t=202010&amp;s=NREM\">Natural Res &amp; Environmtl Mgt (NREM)</a>, <a href=\"./avail.classes?i=MAN&amp;t=202010&amp;s=NURS\">Nursing (NURS)</a>, <a href=\"./avail.classes?i=MAN&amp;t=202010&amp;s=OBGN\">Obstetrics &amp; Gynecology (OBGN)</a>, <a href=\"./avail.classes?i=MAN&amp;t=202010&amp;s=OEST\">Ocean &amp; Earth Science &amp; Tech (OEST)</a>, <a href=\"./avail.classes?i=MAN&amp;t=202010&amp;s=ORE\">Ocean &amp; Resources Engineering (ORE)</a>, <a href=\"./avail.classes?i=MAN&amp;t=202010&amp;s=OCN\">Oceanography (OCN)</a>, <a href=\"./avail.classes?i=MAN&amp;t=202010&amp;s=PACS\">Pacific Islands Studies (PACS)</a>, <a href=\"./avail.classes?i=MAN&amp;t=202010&amp;s=PATH\">Pathology (PATH)</a>, <a href=\"./avail.classes?i=MAN&amp;t=202010&amp;s=PACE\">Peace and Conflict Education (PACE)</a>, <a href=\"./avail.classes?i=MAN&amp;t=202010&amp;s=PED\">Pediatrics (PED)</a>, <a href=\"./avail.classes?i=MAN&amp;t=202010&amp;s=PHRM\">Pharmacology (PHRM)</a>, <a href=\"./avail.classes?i=MAN&amp;t=202010&amp;s=PHIL\">Philosophy (PHIL)</a>, <a href=\"./avail.classes?i=MAN&amp;t=202010&amp;s=PHYS\">Physics (PHYS)</a>, <a href=\"./avail.classes?i=MAN&amp;t=202010&amp;s=PHYL\">Physiology (PHYL)</a>, <a href=\"./avail.classes?i=MAN&amp;t=202010&amp;s=PEPS\">Plant &amp; Environmtl Protect Sci (PEPS)</a>, <a href=\"./avail.classes?i=MAN&amp;t=202010&amp;s=POLS\">Political Science (POLS)</a>, <a href=\"./avail.classes?i=MAN&amp;t=202010&amp;s=PORT\">Portuguese (PORT)</a>, <a href=\"./avail.classes?i=MAN&amp;t=202010&amp;s=PSTY\">Psychiatry (PSTY)</a>, <a href=\"./avail.classes?i=MAN&amp;t=202010&amp;s=PSY\">Psychology (PSY)</a>, <a href=\"./avail.classes?i=MAN&amp;t=202010&amp;s=PUBA\">Public Administration (PUBA)</a>, <a href=\"./avail.classes?i=MAN&amp;t=202010&amp;s=PH\">Public Health (PH)</a>, <a href=\"./avail.classes?i=MAN&amp;t=202010&amp;s=QHS\">Quantitative Health Sciences (QHS)</a>, <a href=\"./avail.classes?i=MAN&amp;t=202010&amp;s=RE\">Real Estate (RE)</a>, <a href=\"./avail.classes?i=MAN&amp;t=202010&amp;s=REL\">Religion (REL)</a>, <a href=\"./avail.classes?i=MAN&amp;t=202010&amp;s=RUS\">Russian (RUS)</a>, <a href=\"./avail.classes?i=MAN&amp;t=202010&amp;s=SAM\">Samoan (SAM)</a>, <a href=\"./avail.classes?i=MAN&amp;t=202010&amp;s=SNSK\">Sanskrit (SNSK)</a>, <a href=\"./avail.classes?i=MAN&amp;t=202010&amp;s=SLS\">Second Language Studies (SLS)</a>, <a href=\"./avail.classes?i=MAN&amp;t=202010&amp;s=SOCS\">Social Science (SOCS)</a>, <a href=\"./avail.classes?i=MAN&amp;t=202010&amp;s=SW\">Social Work (SW)</a>, <a href=\"./avail.classes?i=MAN&amp;t=202010&amp;s=SOC\">Sociology (SOC)</a>, <a href=\"./avail.classes?i=MAN&amp;t=202010&amp;s=SPAN\">Spanish (SPAN)</a>, <a href=\"./avail.classes?i=MAN&amp;t=202010&amp;s=SPED\">Special Education (SPED)</a>, <a href=\"./avail.classes?i=MAN&amp;t=202010&amp;s=SURG\">Surgery (SURG)</a>, <a href=\"./avail.classes?i=MAN&amp;t=202010&amp;s=SUST\">Sustainability (SUST)</a>, <a href=\"./avail.classes?i=MAN&amp;t=202010&amp;s=TAHT\">Tahitian (TAHT)</a>, <a href=\"./avail.classes?i=MAN&amp;t=202010&amp;s=THAI\">Thai (THAI)</a>, <a href=\"./avail.classes?i=MAN&amp;t=202010&amp;s=THEA\">Theatre (THEA)</a>, <a href=\"./avail.classes?i=MAN&amp;t=202010&amp;s=TONG\">Tongan (TONG)</a>, <a href=\"./avail.classes?i=MAN&amp;t=202010&amp;s=TIM\">Travel Industry Management (TIM)</a>, <a href=\"./avail.classes?i=MAN&amp;t=202010&amp;s=TRMD\">Tropical Med &amp; Medcl Micro (TRMD)</a>, <a href=\"./avail.classes?i=MAN&amp;t=202010&amp;s=TPSS\">Tropical Plant &amp; Soil Sciences (TPSS)</a>, <a href=\"./avail.classes?i=MAN&amp;t=202010&amp;s=UNIV\">University (UNIV)</a>, <a href=\"./avail.classes?i=MAN&amp;t=202010&amp;s=PLAN\">Urban &amp; Regional Planning (PLAN)</a>, <a href=\"./avail.classes?i=MAN&amp;t=202010&amp;s=VIET\">Vietnamese (VIET)</a>, <a href=\"./avail.classes?i=MAN&amp;t=202010&amp;s=WS\">Women's Studies (WS)</a>, <a href=\"./avail.classes?i=MAN&amp;t=202010&amp;s=ZOOL\">Zoology (ZOOL)</a>]\n"
     ]
    }
   ],
   "source": [
    "entries = page_soup.findAll(\"a\", href=re.compile(\"t=202010&s=\"))\n",
    "#entry for HDFS is double counted, so total subjects is actually 162-1=161\n",
    "print(entries)\n"
   ]
  },
  {
   "cell_type": "code",
   "execution_count": null,
   "metadata": {},
   "outputs": [],
   "source": [
    "# Names of each subject\n",
    "#look at strings\n",
    "\n",
    "# Acronym of each subject\n",
    "#Look at &s=$$$$\n",
    "\n",
    "# Link to each subject\n",
    "#Look at href, concatenate\n",
    "    # https://www.sis.hawaii.edu/uhdad/avail.classes?i=MAN&t=202010\n",
    "    # &s=$$$$\n",
    "    \n"
   ]
  },
  {
   "cell_type": "code",
   "execution_count": 56,
   "metadata": {},
   "outputs": [],
   "source": [
    "# fill in data structure and track duplicates\n",
    "# fla means four letter acronym\n",
    "\n",
    "subjects = {\"fla\": [fullname, link]}\n",
    "for link in entries:\n",
    "    if link not in entries:\n",
    "        courses.append(link)\n",
    "        \n",
    "print(courses[1])\n",
    "    "
   ]
  },
  {
   "cell_type": "code",
   "execution_count": 57,
   "metadata": {},
   "outputs": [
    {
     "data": {
      "text/plain": [
       "0"
      ]
     },
     "execution_count": 57,
     "metadata": {},
     "output_type": "execute_result"
    }
   ],
   "source": [
    "len(subjects)"
   ]
  },
  {
   "cell_type": "code",
   "execution_count": null,
   "metadata": {},
   "outputs": [],
   "source": []
  }
 ],
 "metadata": {
  "kernelspec": {
   "display_name": "Python 3",
   "language": "python",
   "name": "python3"
  },
  "language_info": {
   "codemirror_mode": {
    "name": "ipython",
    "version": 3
   },
   "file_extension": ".py",
   "mimetype": "text/x-python",
   "name": "python",
   "nbconvert_exporter": "python",
   "pygments_lexer": "ipython3",
   "version": "3.7.3"
  }
 },
 "nbformat": 4,
 "nbformat_minor": 2
}
